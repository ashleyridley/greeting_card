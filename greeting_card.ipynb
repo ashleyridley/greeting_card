{
 "cells": [
  {
   "cell_type": "code",
   "execution_count": null,
   "id": "89c9ac9a",
   "metadata": {},
   "outputs": [],
   "source": [
    "import pygame\n",
    "pygame.init()\n",
    "\n",
    "#create the game window\n",
    "WIDTH=500\n",
    "HEIGHT=400\n",
    "\n",
    "surface=pygame.display.set_mode((WIDTH, HEIGHT))\n",
    "# RGB colors\n",
    "WHITE=(255,255,255)\n",
    "BLACK=(0,0,0)\n",
    "RED=(255,0,0)\n",
    "GREEN=(0,255,0)\n",
    "BLUE=(0,0,255)\n",
    "pygame.display.flip()\n",
    "\n",
    "######################################################\n",
    "pygame.display.set_caption(\"MERRY CHRISTMAS AND HAPPY HOLIDAYS !\")\n",
    "\n",
    "img=pygame.image.load(\"images-2.jpeg\").convert()\n",
    "\n",
    "resized_image=pygame.transform.scale(img, (300,400))\n",
    "\n",
    "x=100 # x coordinate of the image\n",
    "y=100 # y coordinate of the image\n",
    "#font\n",
    "font=pygame.font.Font('freesansbold.ttf', 48)\n",
    "# text surface\n",
    "text=font.render(\"HAPPY HOLIDAYS AND MERRY CHRISTMAS\", True, BLACK, WHITE)\n",
    "\n",
    "\n",
    "surface.blit(resized_image, (x,y))\n",
    "pygame.display.flip()\n",
    "\n",
    "\n",
    "\n",
    "active=True\n",
    "\n",
    "while active:\n",
    "    for event in pygame.event.get():\n",
    "        if event.type==pygame.QUIT:\n",
    "            active= False\n",
    "pygame.quit()"
   ]
  },
  {
   "cell_type": "code",
   "execution_count": null,
   "id": "91f27cb3",
   "metadata": {},
   "outputs": [],
   "source": []
  }
 ],
 "metadata": {
  "kernelspec": {
   "display_name": "Python 3 (ipykernel)",
   "language": "python",
   "name": "python3"
  },
  "language_info": {
   "codemirror_mode": {
    "name": "ipython",
    "version": 3
   },
   "file_extension": ".py",
   "mimetype": "text/x-python",
   "name": "python",
   "nbconvert_exporter": "python",
   "pygments_lexer": "ipython3",
   "version": "3.9.12"
  }
 },
 "nbformat": 4,
 "nbformat_minor": 5
}
